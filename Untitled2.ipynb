{
 "cells": [
  {
   "cell_type": "code",
   "execution_count": 1,
   "id": "7d2dcfb7",
   "metadata": {},
   "outputs": [],
   "source": [
    "import cv2\n",
    "import numpy as np\n",
    "import matplotlib.pyplot as plt\n",
    "import seaborn as sns\n",
    "import pandas as pd\n",
    "import os\n",
    "import tensorflow as tf\n",
    "from tensorflow.keras.preprocessing.image import ImageDataGenerator\n",
    "from tensorflow.keras.preprocessing import image\n",
    "from tensorflow.keras.layers import Dense,Flatten,Dropout,Input,Conv2D\n",
    "from tensorflow.keras.layers import MaxPooling2D,Activation,BatchNormalization\n",
    "from tensorflow.keras.models import Model,Sequential\n",
    "from tensorflow.keras.optimizers import Adam\n",
    "from tensorflow.keras.utils import plot_model\n",
    "from tensorflow.keras.callbacks import ModelCheckpoint,ReduceLROnPlateau\n",
    "from IPython.display import SVG,Image"
   ]
  },
  {
   "cell_type": "code",
   "execution_count": 3,
   "id": "b9461c71",
   "metadata": {},
   "outputs": [
    {
     "name": "stdout",
     "output_type": "stream",
     "text": [
      "378__000\n",
      "373__001\n",
      "374__002\n",
      "362__003\n",
      "370__004\n",
      "376__005\n",
      "367__006\n",
      "374__007\n",
      "367__008\n",
      "356__009\n",
      "356__010\n",
      "375__011\n",
      "371__012\n",
      "355__013\n",
      "365__014\n",
      "361__015\n",
      "376__016\n",
      "376__017\n",
      "368__018\n",
      "352__019\n",
      "370__020\n",
      "372__021\n",
      "371__022\n",
      "364__023\n",
      "371__024\n",
      "370__025\n",
      "361__026\n",
      "360__027\n",
      "368__028\n",
      "355__029\n",
      "374__030\n",
      "340__031\n",
      "180__032\n",
      "363__033\n",
      "334__034\n",
      "364__035\n",
      "350__036\n",
      "368__037\n",
      "366__038\n",
      "367__039\n",
      "366__040\n",
      "369__041\n",
      "362__042\n",
      "372__043\n",
      "364__044\n",
      "370__045\n",
      "371__046\n",
      "372__047\n",
      "368__048\n",
      "368__049\n",
      "370__050\n",
      "372__051\n",
      "374__052\n",
      "363__053\n",
      "356__054\n",
      "180__055\n",
      "361__056\n",
      "335__057\n",
      "368__058\n",
      "345__059\n",
      "364__060\n",
      "374__061\n",
      "365__062\n",
      "372__063\n",
      "359__064\n",
      "356__065\n",
      "370__066\n",
      "361__067\n",
      "367__068\n",
      "362__069\n",
      "364__070\n",
      "364__071\n",
      "355__072\n",
      "361__073\n",
      "358__074\n",
      "362__075\n",
      "367__076\n",
      "364__077\n",
      "180__078\n",
      "366__079\n",
      "362__080\n",
      "370__081\n",
      "354__082\n",
      "358__083\n",
      "361__084\n",
      "365__085\n",
      "368__086\n",
      "364__087\n",
      "367__088\n",
      "360__089\n",
      "370__090\n",
      "368__091\n",
      "372__092\n",
      "365__093\n",
      "370__094\n",
      "354__095\n",
      "357__096\n",
      "360__097\n",
      "370__098\n",
      "346__099\n",
      "326__100\n",
      "356__101\n",
      "351__102\n",
      "366__103\n",
      "359__104\n",
      "374__105\n",
      "372__106\n",
      "372__107\n",
      "373__108\n",
      "372__109\n",
      "372__110\n",
      "362__111\n",
      "369__112\n",
      "294__113\n",
      "351__114\n",
      "359__115\n",
      "364__116\n",
      "361__117\n",
      "377__118\n",
      "358__119\n",
      "364__120\n",
      "346__121\n",
      "314__122\n",
      "303__123\n",
      "181__124\n",
      "335__125\n",
      "326__126\n",
      "322__127\n",
      "311__128\n",
      "177__129\n",
      "312__130\n",
      "310__131\n",
      "367__132\n",
      "348__133\n",
      "362__134\n",
      "366__135\n",
      "374__136\n",
      "374__137\n",
      "375__138\n",
      "363__139\n",
      "365__140\n",
      "370__141\n",
      "373__142\n",
      "361__143\n",
      "376__144\n",
      "369__145\n",
      "363__146\n",
      "364__147\n",
      "369__148\n",
      "372__149\n",
      "366__150\n",
      "344__151\n",
      "180__152\n",
      "361__153\n",
      "335__154\n",
      "368__155\n"
     ]
    }
   ],
   "source": [
    "#checking no of images in each folders\n",
    "for types in os.listdir(r\"C:\\Users\\GOPI\\tamil words capture\\train\"):\n",
    "    print(str(len(os.listdir(\"C:/Users/GOPI/tamil words capture/train/\"+types)))+\"__\"+types)"
   ]
  },
  {
   "cell_type": "code",
   "execution_count": 5,
   "id": "cf39c647",
   "metadata": {},
   "outputs": [
    {
     "name": "stderr",
     "output_type": "stream",
     "text": [
      "C:\\Users\\GOPI\\anaconda3\\lib\\site-packages\\keras\\preprocessing\\image.py:202: UserWarning: Using \".tiff\" files with multiple bands will cause distortion. Please verify your output.\n",
      "  warnings.warn(\n"
     ]
    },
    {
     "name": "stdout",
     "output_type": "stream",
     "text": [
      "Found 55232 images belonging to 156 classes.\n",
      "Found 27696 images belonging to 156 classes.\n",
      "Found 27696 images belonging to 156 classes.\n"
     ]
    }
   ],
   "source": [
    "img_size=48\n",
    "batch_size=64\n",
    "datagen_train=ImageDataGenerator(horizontal_flip=True)\n",
    "train_generator=datagen_train.flow_from_directory(\"C:/Users/GOPI/tamil words capture/train/\",\n",
    "                                                 target_size=(img_size,img_size),\n",
    "                                                             batch_size=batch_size,\n",
    "                                                             class_mode='categorical',\n",
    "                                                             shuffle=True)\n",
    "datagen_test=ImageDataGenerator(horizontal_flip=True)\n",
    "test_generator=datagen_test.flow_from_directory(\"C:/Users/GOPI/tamil words capture/test/\",\n",
    "                                                 target_size=(img_size,img_size),\n",
    "                                                             batch_size=batch_size,\n",
    "                                                             class_mode='categorical',\n",
    "                                                shuffle=True)\n",
    "\n",
    "\n",
    "datagen_valid=ImageDataGenerator(horizontal_flip=True)                                                            \n",
    "valid_generator=datagen_valid.flow_from_directory(\"C:/Users/GOPI/tamil words capture/test/\",\n",
    "                                                 target_size=(img_size,img_size),\n",
    "                                                             batch_size=batch_size,\n",
    "                                                             class_mode='categorical',\n",
    "                                                             shuffle=True)\n"
   ]
  },
  {
   "cell_type": "code",
   "execution_count": 6,
   "id": "9073e976",
   "metadata": {},
   "outputs": [],
   "source": [
    "detection=Sequential()"
   ]
  },
  {
   "cell_type": "code",
   "execution_count": 7,
   "id": "0977a9f7",
   "metadata": {},
   "outputs": [],
   "source": [
    "detection.add(Conv2D(64,(3,3),padding='same',input_shape=(48,48,3)))\n",
    "detection.add(BatchNormalization())\n",
    "detection.add(Activation('relu'))\n",
    "detection.add(MaxPooling2D(pool_size=(2,2)))\n",
    "detection.add(Dropout(0.25))"
   ]
  },
  {
   "cell_type": "code",
   "execution_count": 8,
   "id": "3f7b9c38",
   "metadata": {},
   "outputs": [],
   "source": [
    "detection.add(Conv2D(128,(3,3),padding='same',input_shape=(48,48,3)))\n",
    "detection.add(BatchNormalization())\n",
    "detection.add(Activation('relu'))\n",
    "detection.add(MaxPooling2D(pool_size=(2,2)))\n",
    "detection.add(Dropout(0.25))"
   ]
  },
  {
   "cell_type": "code",
   "execution_count": 9,
   "id": "40ab5e14",
   "metadata": {},
   "outputs": [],
   "source": [
    "detection.add(Conv2D(256,(3,3),padding='same',input_shape=(48,48,3)))\n",
    "detection.add(BatchNormalization())\n",
    "detection.add(Activation('relu'))\n",
    "detection.add(MaxPooling2D(pool_size=(2,2)))\n",
    "detection.add(Dropout(0.25))"
   ]
  },
  {
   "cell_type": "code",
   "execution_count": 10,
   "id": "ae1e6a04",
   "metadata": {},
   "outputs": [],
   "source": [
    "detection.add(Conv2D(512,(3,3),padding='same',input_shape=(48,48,3)))\n",
    "detection.add(BatchNormalization())\n",
    "detection.add(Activation('relu'))\n",
    "detection.add(MaxPooling2D(pool_size=(2,2)))\n",
    "detection.add(Dropout(0.25))"
   ]
  },
  {
   "cell_type": "code",
   "execution_count": 11,
   "id": "b515e75d",
   "metadata": {},
   "outputs": [],
   "source": [
    "detection.add(Flatten())"
   ]
  },
  {
   "cell_type": "code",
   "execution_count": 12,
   "id": "8b93c9a4",
   "metadata": {},
   "outputs": [],
   "source": [
    "detection.add(Dense(256))\n",
    "detection.add(BatchNormalization())\n",
    "detection.add(Activation('relu'))\n",
    "detection.add(Dropout(0.25))"
   ]
  },
  {
   "cell_type": "code",
   "execution_count": 13,
   "id": "6cdc9312",
   "metadata": {},
   "outputs": [],
   "source": [
    "detection.add(Dense(512))\n",
    "detection.add(BatchNormalization())\n",
    "detection.add(Activation('relu'))\n",
    "detection.add(Dropout(0.25))"
   ]
  },
  {
   "cell_type": "code",
   "execution_count": 14,
   "id": "c23d4b91",
   "metadata": {},
   "outputs": [],
   "source": [
    "detection.add(Dense(156,activation='softmax'))\n"
   ]
  },
  {
   "cell_type": "code",
   "execution_count": 15,
   "id": "7a6374f9",
   "metadata": {},
   "outputs": [
    {
     "name": "stderr",
     "output_type": "stream",
     "text": [
      "C:\\Users\\GOPI\\anaconda3\\lib\\site-packages\\keras\\optimizers\\optimizer_v2\\adam.py:114: UserWarning: The `lr` argument is deprecated, use `learning_rate` instead.\n",
      "  super().__init__(name, **kwargs)\n"
     ]
    }
   ],
   "source": [
    "optimum=Adam(lr=0.005)\n",
    "detection.compile(optimizer=optimum,loss='categorical_crossentropy',metrics=['accuracy'])\n"
   ]
  },
  {
   "cell_type": "code",
   "execution_count": 16,
   "id": "18a4f307",
   "metadata": {},
   "outputs": [
    {
     "name": "stdout",
     "output_type": "stream",
     "text": [
      "Model: \"sequential\"\n",
      "_________________________________________________________________\n",
      " Layer (type)                Output Shape              Param #   \n",
      "=================================================================\n",
      " conv2d (Conv2D)             (None, 48, 48, 64)        1792      \n",
      "                                                                 \n",
      " batch_normalization (BatchN  (None, 48, 48, 64)       256       \n",
      " ormalization)                                                   \n",
      "                                                                 \n",
      " activation (Activation)     (None, 48, 48, 64)        0         \n",
      "                                                                 \n",
      " max_pooling2d (MaxPooling2D  (None, 24, 24, 64)       0         \n",
      " )                                                               \n",
      "                                                                 \n",
      " dropout (Dropout)           (None, 24, 24, 64)        0         \n",
      "                                                                 \n",
      " conv2d_1 (Conv2D)           (None, 24, 24, 128)       73856     \n",
      "                                                                 \n",
      " batch_normalization_1 (Batc  (None, 24, 24, 128)      512       \n",
      " hNormalization)                                                 \n",
      "                                                                 \n",
      " activation_1 (Activation)   (None, 24, 24, 128)       0         \n",
      "                                                                 \n",
      " max_pooling2d_1 (MaxPooling  (None, 12, 12, 128)      0         \n",
      " 2D)                                                             \n",
      "                                                                 \n",
      " dropout_1 (Dropout)         (None, 12, 12, 128)       0         \n",
      "                                                                 \n",
      " conv2d_2 (Conv2D)           (None, 12, 12, 256)       295168    \n",
      "                                                                 \n",
      " batch_normalization_2 (Batc  (None, 12, 12, 256)      1024      \n",
      " hNormalization)                                                 \n",
      "                                                                 \n",
      " activation_2 (Activation)   (None, 12, 12, 256)       0         \n",
      "                                                                 \n",
      " max_pooling2d_2 (MaxPooling  (None, 6, 6, 256)        0         \n",
      " 2D)                                                             \n",
      "                                                                 \n",
      " dropout_2 (Dropout)         (None, 6, 6, 256)         0         \n",
      "                                                                 \n",
      " conv2d_3 (Conv2D)           (None, 6, 6, 512)         1180160   \n",
      "                                                                 \n",
      " batch_normalization_3 (Batc  (None, 6, 6, 512)        2048      \n",
      " hNormalization)                                                 \n",
      "                                                                 \n",
      " activation_3 (Activation)   (None, 6, 6, 512)         0         \n",
      "                                                                 \n",
      " max_pooling2d_3 (MaxPooling  (None, 3, 3, 512)        0         \n",
      " 2D)                                                             \n",
      "                                                                 \n",
      " dropout_3 (Dropout)         (None, 3, 3, 512)         0         \n",
      "                                                                 \n",
      " flatten (Flatten)           (None, 4608)              0         \n",
      "                                                                 \n",
      " dense (Dense)               (None, 256)               1179904   \n",
      "                                                                 \n",
      " batch_normalization_4 (Batc  (None, 256)              1024      \n",
      " hNormalization)                                                 \n",
      "                                                                 \n",
      " activation_4 (Activation)   (None, 256)               0         \n",
      "                                                                 \n",
      " dropout_4 (Dropout)         (None, 256)               0         \n",
      "                                                                 \n",
      " dense_1 (Dense)             (None, 512)               131584    \n",
      "                                                                 \n",
      " batch_normalization_5 (Batc  (None, 512)              2048      \n",
      " hNormalization)                                                 \n",
      "                                                                 \n",
      " activation_5 (Activation)   (None, 512)               0         \n",
      "                                                                 \n",
      " dropout_5 (Dropout)         (None, 512)               0         \n",
      "                                                                 \n",
      " dense_2 (Dense)             (None, 156)               80028     \n",
      "                                                                 \n",
      "=================================================================\n",
      "Total params: 2,949,404\n",
      "Trainable params: 2,945,948\n",
      "Non-trainable params: 3,456\n",
      "_________________________________________________________________\n"
     ]
    }
   ],
   "source": [
    "detection.summary()"
   ]
  },
  {
   "cell_type": "code",
   "execution_count": 23,
   "id": "337e0e8f",
   "metadata": {},
   "outputs": [],
   "source": [
    "epochs=1\n",
    "steps_per_epoch=train_generator.n//train_generator.batch_size\n",
    "valid_steps=valid_generator.n//valid_generator.batch_size"
   ]
  },
  {
   "cell_type": "code",
   "execution_count": 24,
   "id": "21eabf71",
   "metadata": {},
   "outputs": [
    {
     "name": "stdout",
     "output_type": "stream",
     "text": [
      "863/863 [==============================] - 734s 851ms/step - loss: 0.1541 - accuracy: 0.9479 - val_loss: 0.2755 - val_accuracy: 0.9188\n"
     ]
    }
   ],
   "source": [
    "detection.fit(x=train_generator,steps_per_epoch=steps_per_epoch,\n",
    "             epochs=epochs,\n",
    "              validation_data=valid_generator,\n",
    "              validation_steps=valid_steps\n",
    "              \n",
    "             )\n",
    "\n",
    "detection.save('detect_tamil.h5')"
   ]
  },
  {
   "cell_type": "code",
   "execution_count": 2,
   "id": "b322fa4b",
   "metadata": {},
   "outputs": [],
   "source": [
    "from tensorflow.keras.models import load_model\n",
    "model=load_model('detect_tamil.h5')"
   ]
  },
  {
   "cell_type": "code",
   "execution_count": 26,
   "id": "83845fd7",
   "metadata": {},
   "outputs": [
    {
     "name": "stdout",
     "output_type": "stream",
     "text": [
      "Model: \"sequential\"\n",
      "_________________________________________________________________\n",
      " Layer (type)                Output Shape              Param #   \n",
      "=================================================================\n",
      " conv2d (Conv2D)             (None, 48, 48, 64)        1792      \n",
      "                                                                 \n",
      " batch_normalization (BatchN  (None, 48, 48, 64)       256       \n",
      " ormalization)                                                   \n",
      "                                                                 \n",
      " activation (Activation)     (None, 48, 48, 64)        0         \n",
      "                                                                 \n",
      " max_pooling2d (MaxPooling2D  (None, 24, 24, 64)       0         \n",
      " )                                                               \n",
      "                                                                 \n",
      " dropout (Dropout)           (None, 24, 24, 64)        0         \n",
      "                                                                 \n",
      " conv2d_1 (Conv2D)           (None, 24, 24, 128)       73856     \n",
      "                                                                 \n",
      " batch_normalization_1 (Batc  (None, 24, 24, 128)      512       \n",
      " hNormalization)                                                 \n",
      "                                                                 \n",
      " activation_1 (Activation)   (None, 24, 24, 128)       0         \n",
      "                                                                 \n",
      " max_pooling2d_1 (MaxPooling  (None, 12, 12, 128)      0         \n",
      " 2D)                                                             \n",
      "                                                                 \n",
      " dropout_1 (Dropout)         (None, 12, 12, 128)       0         \n",
      "                                                                 \n",
      " conv2d_2 (Conv2D)           (None, 12, 12, 256)       295168    \n",
      "                                                                 \n",
      " batch_normalization_2 (Batc  (None, 12, 12, 256)      1024      \n",
      " hNormalization)                                                 \n",
      "                                                                 \n",
      " activation_2 (Activation)   (None, 12, 12, 256)       0         \n",
      "                                                                 \n",
      " max_pooling2d_2 (MaxPooling  (None, 6, 6, 256)        0         \n",
      " 2D)                                                             \n",
      "                                                                 \n",
      " dropout_2 (Dropout)         (None, 6, 6, 256)         0         \n",
      "                                                                 \n",
      " conv2d_3 (Conv2D)           (None, 6, 6, 512)         1180160   \n",
      "                                                                 \n",
      " batch_normalization_3 (Batc  (None, 6, 6, 512)        2048      \n",
      " hNormalization)                                                 \n",
      "                                                                 \n",
      " activation_3 (Activation)   (None, 6, 6, 512)         0         \n",
      "                                                                 \n",
      " max_pooling2d_3 (MaxPooling  (None, 3, 3, 512)        0         \n",
      " 2D)                                                             \n",
      "                                                                 \n",
      " dropout_3 (Dropout)         (None, 3, 3, 512)         0         \n",
      "                                                                 \n",
      " flatten (Flatten)           (None, 4608)              0         \n",
      "                                                                 \n",
      " dense (Dense)               (None, 256)               1179904   \n",
      "                                                                 \n",
      " batch_normalization_4 (Batc  (None, 256)              1024      \n",
      " hNormalization)                                                 \n",
      "                                                                 \n",
      " activation_4 (Activation)   (None, 256)               0         \n",
      "                                                                 \n",
      " dropout_4 (Dropout)         (None, 256)               0         \n",
      "                                                                 \n",
      " dense_1 (Dense)             (None, 512)               131584    \n",
      "                                                                 \n",
      " batch_normalization_5 (Batc  (None, 512)              2048      \n",
      " hNormalization)                                                 \n",
      "                                                                 \n",
      " activation_5 (Activation)   (None, 512)               0         \n",
      "                                                                 \n",
      " dropout_5 (Dropout)         (None, 512)               0         \n",
      "                                                                 \n",
      " dense_2 (Dense)             (None, 156)               80028     \n",
      "                                                                 \n",
      "=================================================================\n",
      "Total params: 2,949,404\n",
      "Trainable params: 2,945,948\n",
      "Non-trainable params: 3,456\n",
      "_________________________________________________________________\n"
     ]
    }
   ],
   "source": [
    "model.summary()"
   ]
  },
  {
   "cell_type": "code",
   "execution_count": 27,
   "id": "a2b809d4",
   "metadata": {},
   "outputs": [
    {
     "name": "stdout",
     "output_type": "stream",
     "text": [
      "1/1 [==============================] - 12s 12s/step\n",
      "044\n"
     ]
    },
    {
     "data": {
      "image/png": "[encoded data removed]",
      "text/plain": [
       "<Figure size 432x288 with 1 Axes>"
      ]
     },
     "metadata": {
      "needs_background": "light"
     },
     "output_type": "display_data"
    },
    {
     "name": "stdout",
     "output_type": "stream",
     "text": [
      "1/1 [==============================] - 0s 68ms/step\n",
      "044\n"
     ]
    },
    {
     "data": {
      "image/png": "[encoded data removed]",
      "text/plain": [
       "<Figure size 432x288 with 1 Axes>"
      ]
     },
     "metadata": {
      "needs_background": "light"
     },
     "output_type": "display_data"
    },
    {
     "name": "stdout",
     "output_type": "stream",
     "text": [
      "1/1 [==============================] - 0s 47ms/step\n",
      "016\n"
     ]
    },
    {
     "data": {
      "image/png": "[encoded data removed]",
      "text/plain": [
       "<Figure size 432x288 with 1 Axes>"
      ]
     },
     "metadata": {
      "needs_background": "light"
     },
     "output_type": "display_data"
    },
    {
     "name": "stdout",
     "output_type": "stream",
     "text": [
      "1/1 [==============================] - 0s 22ms/step\n",
      "018\n"
     ]
    },
    {
     "data": {
      "image/png": "[encoded data removed]",
      "text/plain": [
       "<Figure size 432x288 with 1 Axes>"
      ]
     },
     "metadata": {
      "needs_background": "light"
     },
     "output_type": "display_data"
    },
    {
     "name": "stdout",
     "output_type": "stream",
     "text": [
      "1/1 [==============================] - 0s 23ms/step\n",
      "044\n"
     ]
    },
    {
     "data": {
      "image/png": "[encoded data removed]",
      "text/plain": [
       "<Figure size 432x288 with 1 Axes>"
      ]
     },
     "metadata": {
      "needs_background": "light"
     },
     "output_type": "display_data"
    },
    {
     "name": "stdout",
     "output_type": "stream",
     "text": [
      "1/1 [==============================] - 0s 18ms/step\n",
      "016\n"
     ]
    },
    {
     "data": {
      "image/png": "[encoded data removed]",
      "text/plain": [
       "<Figure size 432x288 with 1 Axes>"
      ]
     },
     "metadata": {
      "needs_background": "light"
     },
     "output_type": "display_data"
    },
    {
     "name": "stdout",
     "output_type": "stream",
     "text": [
      "1/1 [==============================] - 0s 24ms/step\n",
      "044\n"
     ]
    },
    {
     "data": {
      "image/png": "[encoded data removed]",
      "text/plain": [
       "<Figure size 432x288 with 1 Axes>"
      ]
     },
     "metadata": {
      "needs_background": "light"
     },
     "output_type": "display_data"
    },
    {
     "name": "stdout",
     "output_type": "stream",
     "text": [
      "1/1 [==============================] - 0s 16ms/step\n",
      "044\n"
     ]
    },
    {
     "data": {
      "image/png": "[encoded data removed]",
      "text/plain": [
       "<Figure size 432x288 with 1 Axes>"
      ]
     },
     "metadata": {
      "needs_background": "light"
     },
     "output_type": "display_data"
    },
    {
     "name": "stdout",
     "output_type": "stream",
     "text": [
      "1/1 [==============================] - 0s 36ms/step\n",
      "044\n"
     ]
    },
    {
     "data": {
      "image/png": "[encoded data removed]",
      "text/plain": [
       "<Figure size 432x288 with 1 Axes>"
      ]
     },
     "metadata": {
      "needs_background": "light"
     },
     "output_type": "display_data"
    },
    {
     "name": "stdout",
     "output_type": "stream",
     "text": [
      "1/1 [==============================] - 0s 36ms/step\n",
      "044\n"
     ]
    },
    {
     "data": {
      "image/png": "[encoded data removed]",
      "text/plain": [
       "<Figure size 432x288 with 1 Axes>"
      ]
     },
     "metadata": {
      "needs_background": "light"
     },
     "output_type": "display_data"
    },
    {
     "name": "stdout",
     "output_type": "stream",
     "text": [
      "1/1 [==============================] - 0s 60ms/step\n",
      "013\n"
     ]
    },
    {
     "data": {
      "image/png": "[encoded data removed]",
      "text/plain": [
       "<Figure size 432x288 with 1 Axes>"
      ]
     },
     "metadata": {
      "needs_background": "light"
     },
     "output_type": "display_data"
    },
    {
     "name": "stdout",
     "output_type": "stream",
     "text": [
      "1/1 [==============================] - 0s 47ms/step\n",
      "016\n"
     ]
    },
    {
     "data": {
      "image/png": "[encoded data removed]",
      "text/plain": [
       "<Figure size 432x288 with 1 Axes>"
      ]
     },
     "metadata": {
      "needs_background": "light"
     },
     "output_type": "display_data"
    },
    {
     "name": "stdout",
     "output_type": "stream",
     "text": [
      "1/1 [==============================] - 0s 62ms/step\n",
      "018\n"
     ]
    },
    {
     "data": {
      "image/png": "[encoded data removed]",
      "text/plain": [
       "<Figure size 432x288 with 1 Axes>"
      ]
     },
     "metadata": {
      "needs_background": "light"
     },
     "output_type": "display_data"
    }
   ],
   "source": [
    "dir_path=r'C:\\Users\\GOPI\\OneDrive\\Documents\\Tamil-AI-master\\Tamil-AI-master\\Test_Images\\160'\n",
    "for i in os.listdir(dir_path):\n",
    "    #print(i)\n",
    "    img=image.load_img((dir_path+'//'+i))\n",
    "    \n",
    "    \n",
    "    x=image.img_to_array(img)\n",
    "    x = cv2.resize(x, dsize=(48, 48))\n",
    "    x = x.astype('int32')\n",
    "    x1=np.expand_dims(x,axis=0)\n",
    "\n",
    "    #x = x.reshape(1,28,28,1)\n",
    "    res=model.predict(x1)\n",
    "    #print(res)\n",
    "    a=res.argmax()\n",
    "    classes=train_generator.class_indices\n",
    "    cat=[]\n",
    "    for i in classes:\n",
    "        cat.append(i)\n",
    "    for i in range(len(classes))  :\n",
    "        if i==a:\n",
    "            print(cat[i])\n",
    "            plt.imshow(img)\n",
    "            plt.show()"
   ]
  },
  {
   "cell_type": "code",
   "execution_count": 28,
   "id": "16e5c2b9",
   "metadata": {},
   "outputs": [
    {
     "data": {
      "text/plain": [
       "['000',\n",
       " '001',\n",
       " '002',\n",
       " '003',\n",
       " '004',\n",
       " '005',\n",
       " '006',\n",
       " '007',\n",
       " '008',\n",
       " '009',\n",
       " '010',\n",
       " '011',\n",
       " '012',\n",
       " '013',\n",
       " '014',\n",
       " '015',\n",
       " '016',\n",
       " '017',\n",
       " '018',\n",
       " '019',\n",
       " '020',\n",
       " '021',\n",
       " '022',\n",
       " '023',\n",
       " '024',\n",
       " '025',\n",
       " '026',\n",
       " '027',\n",
       " '028',\n",
       " '029',\n",
       " '030',\n",
       " '031',\n",
       " '032',\n",
       " '033',\n",
       " '034',\n",
       " '035',\n",
       " '036',\n",
       " '037',\n",
       " '038',\n",
       " '039',\n",
       " '040',\n",
       " '041',\n",
       " '042',\n",
       " '043',\n",
       " '044',\n",
       " '045',\n",
       " '046',\n",
       " '047',\n",
       " '048',\n",
       " '049',\n",
       " '050',\n",
       " '051',\n",
       " '052',\n",
       " '053',\n",
       " '054',\n",
       " '055',\n",
       " '056',\n",
       " '057',\n",
       " '058',\n",
       " '059',\n",
       " '060',\n",
       " '061',\n",
       " '062',\n",
       " '063',\n",
       " '064',\n",
       " '065',\n",
       " '066',\n",
       " '067',\n",
       " '068',\n",
       " '069',\n",
       " '070',\n",
       " '071',\n",
       " '072',\n",
       " '073',\n",
       " '074',\n",
       " '075',\n",
       " '076',\n",
       " '077',\n",
       " '078',\n",
       " '079',\n",
       " '080',\n",
       " '081',\n",
       " '082',\n",
       " '083',\n",
       " '084',\n",
       " '085',\n",
       " '086',\n",
       " '087',\n",
       " '088',\n",
       " '089',\n",
       " '090',\n",
       " '091',\n",
       " '092',\n",
       " '093',\n",
       " '094',\n",
       " '095',\n",
       " '096',\n",
       " '097',\n",
       " '098',\n",
       " '099',\n",
       " '100',\n",
       " '101',\n",
       " '102',\n",
       " '103',\n",
       " '104',\n",
       " '105',\n",
       " '106',\n",
       " '107',\n",
       " '108',\n",
       " '109',\n",
       " '110',\n",
       " '111',\n",
       " '112',\n",
       " '113',\n",
       " '114',\n",
       " '115',\n",
       " '116',\n",
       " '117',\n",
       " '118',\n",
       " '119',\n",
       " '120',\n",
       " '121',\n",
       " '122',\n",
       " '123',\n",
       " '124',\n",
       " '125',\n",
       " '126',\n",
       " '127',\n",
       " '128',\n",
       " '129',\n",
       " '130',\n",
       " '131',\n",
       " '132',\n",
       " '133',\n",
       " '134',\n",
       " '135',\n",
       " '136',\n",
       " '137',\n",
       " '138',\n",
       " '139',\n",
       " '140',\n",
       " '141',\n",
       " '142',\n",
       " '143',\n",
       " '144',\n",
       " '145',\n",
       " '146',\n",
       " '147',\n",
       " '148',\n",
       " '149',\n",
       " '150',\n",
       " '151',\n",
       " '152',\n",
       " '153',\n",
       " '154',\n",
       " '155']"
      ]
     },
     "execution_count": 28,
     "metadata": {},
     "output_type": "execute_result"
    }
   ],
   "source": [
    "cat"
   ]
  },
  {
   "cell_type": "code",
   "execution_count": 29,
   "id": "ac36602b",
   "metadata": {},
   "outputs": [
    {
     "data": {
      "text/plain": [
       "{'000': 0,\n",
       " '001': 1,\n",
       " '002': 2,\n",
       " '003': 3,\n",
       " '004': 4,\n",
       " '005': 5,\n",
       " '006': 6,\n",
       " '007': 7,\n",
       " '008': 8,\n",
       " '009': 9,\n",
       " '010': 10,\n",
       " '011': 11,\n",
       " '012': 12,\n",
       " '013': 13,\n",
       " '014': 14,\n",
       " '015': 15,\n",
       " '016': 16,\n",
       " '017': 17,\n",
       " '018': 18,\n",
       " '019': 19,\n",
       " '020': 20,\n",
       " '021': 21,\n",
       " '022': 22,\n",
       " '023': 23,\n",
       " '024': 24,\n",
       " '025': 25,\n",
       " '026': 26,\n",
       " '027': 27,\n",
       " '028': 28,\n",
       " '029': 29,\n",
       " '030': 30,\n",
       " '031': 31,\n",
       " '032': 32,\n",
       " '033': 33,\n",
       " '034': 34,\n",
       " '035': 35,\n",
       " '036': 36,\n",
       " '037': 37,\n",
       " '038': 38,\n",
       " '039': 39,\n",
       " '040': 40,\n",
       " '041': 41,\n",
       " '042': 42,\n",
       " '043': 43,\n",
       " '044': 44,\n",
       " '045': 45,\n",
       " '046': 46,\n",
       " '047': 47,\n",
       " '048': 48,\n",
       " '049': 49,\n",
       " '050': 50,\n",
       " '051': 51,\n",
       " '052': 52,\n",
       " '053': 53,\n",
       " '054': 54,\n",
       " '055': 55,\n",
       " '056': 56,\n",
       " '057': 57,\n",
       " '058': 58,\n",
       " '059': 59,\n",
       " '060': 60,\n",
       " '061': 61,\n",
       " '062': 62,\n",
       " '063': 63,\n",
       " '064': 64,\n",
       " '065': 65,\n",
       " '066': 66,\n",
       " '067': 67,\n",
       " '068': 68,\n",
       " '069': 69,\n",
       " '070': 70,\n",
       " '071': 71,\n",
       " '072': 72,\n",
       " '073': 73,\n",
       " '074': 74,\n",
       " '075': 75,\n",
       " '076': 76,\n",
       " '077': 77,\n",
       " '078': 78,\n",
       " '079': 79,\n",
       " '080': 80,\n",
       " '081': 81,\n",
       " '082': 82,\n",
       " '083': 83,\n",
       " '084': 84,\n",
       " '085': 85,\n",
       " '086': 86,\n",
       " '087': 87,\n",
       " '088': 88,\n",
       " '089': 89,\n",
       " '090': 90,\n",
       " '091': 91,\n",
       " '092': 92,\n",
       " '093': 93,\n",
       " '094': 94,\n",
       " '095': 95,\n",
       " '096': 96,\n",
       " '097': 97,\n",
       " '098': 98,\n",
       " '099': 99,\n",
       " '100': 100,\n",
       " '101': 101,\n",
       " '102': 102,\n",
       " '103': 103,\n",
       " '104': 104,\n",
       " '105': 105,\n",
       " '106': 106,\n",
       " '107': 107,\n",
       " '108': 108,\n",
       " '109': 109,\n",
       " '110': 110,\n",
       " '111': 111,\n",
       " '112': 112,\n",
       " '113': 113,\n",
       " '114': 114,\n",
       " '115': 115,\n",
       " '116': 116,\n",
       " '117': 117,\n",
       " '118': 118,\n",
       " '119': 119,\n",
       " '120': 120,\n",
       " '121': 121,\n",
       " '122': 122,\n",
       " '123': 123,\n",
       " '124': 124,\n",
       " '125': 125,\n",
       " '126': 126,\n",
       " '127': 127,\n",
       " '128': 128,\n",
       " '129': 129,\n",
       " '130': 130,\n",
       " '131': 131,\n",
       " '132': 132,\n",
       " '133': 133,\n",
       " '134': 134,\n",
       " '135': 135,\n",
       " '136': 136,\n",
       " '137': 137,\n",
       " '138': 138,\n",
       " '139': 139,\n",
       " '140': 140,\n",
       " '141': 141,\n",
       " '142': 142,\n",
       " '143': 143,\n",
       " '144': 144,\n",
       " '145': 145,\n",
       " '146': 146,\n",
       " '147': 147,\n",
       " '148': 148,\n",
       " '149': 149,\n",
       " '150': 150,\n",
       " '151': 151,\n",
       " '152': 152,\n",
       " '153': 153,\n",
       " '154': 154,\n",
       " '155': 155}"
      ]
     },
     "execution_count": 29,
     "metadata": {},
     "output_type": "execute_result"
    }
   ],
   "source": [
    " classes"
   ]
  },
  {
   "cell_type": "code",
   "execution_count": 106,
   "id": "9a830031",
   "metadata": {},
   "outputs": [
    {
     "data": {
      "text/plain": [
       "(1, 28, 28, 3)"
      ]
     },
     "execution_count": 106,
     "metadata": {},
     "output_type": "execute_result"
    }
   ],
   "source": [
    "x1.shape"
   ]
  },
  {
   "cell_type": "code",
   "execution_count": null,
   "id": "0bd05e09",
   "metadata": {},
   "outputs": [],
   "source": []
  },
  {
   "cell_type": "code",
   "execution_count": 11,
   "id": "753b3ec7",
   "metadata": {},
   "outputs": [
    {
     "name": "stdout",
     "output_type": "stream",
     "text": [
      "1/1 [==============================] - 0s 31ms/step\n"
     ]
    }
   ],
   "source": [
    "img=image.load_img(r\"C:\\Users\\GOPI\\tamil words capture\\Untitled.jpg\")\n",
    "    \n",
    "    \n",
    "x=image.img_to_array(img)\n",
    "x = cv2.resize(x, dsize=(48, 48))\n",
    "x = x.astype('int32')\n",
    "x1=np.expand_dims(x,axis=0)\n",
    "\n",
    "#x = x.reshape(1,28,28,1)\n",
    "res=model.predict(x1)"
   ]
  },
  {
   "cell_type": "code",
   "execution_count": 12,
   "id": "3d72dd4a",
   "metadata": {},
   "outputs": [
    {
     "data": {
      "text/plain": [
       "array([[8.32829857e-04, 8.39682398e-05, 1.27707506e-04, 1.35347457e-03,\n",
       "        1.67375524e-03, 1.65282509e-05, 4.67961142e-03, 8.05081800e-04,\n",
       "        1.23030230e-04, 1.99053859e-04, 7.90477425e-05, 1.34611586e-02,\n",
       "        1.12066511e-03, 4.67323102e-02, 2.65646470e-03, 1.49013169e-04,\n",
       "        1.28181307e-02, 1.95796136e-04, 2.06016880e-02, 1.58301014e-02,\n",
       "        4.40251781e-03, 1.07509224e-03, 3.46615358e-04, 2.36670040e-02,\n",
       "        2.64633773e-03, 7.01544122e-05, 1.07578770e-03, 4.95981833e-04,\n",
       "        1.57630909e-02, 9.06608882e-04, 6.80077448e-03, 3.35262041e-04,\n",
       "        5.05402313e-05, 1.93691285e-05, 9.92116475e-06, 1.02872495e-03,\n",
       "        3.74928932e-05, 4.98636346e-03, 8.73360201e-04, 7.54434988e-03,\n",
       "        2.73734564e-04, 1.46548245e-02, 5.75310141e-02, 1.56549886e-02,\n",
       "        1.73714846e-01, 2.25558761e-03, 6.07031919e-02, 2.83008115e-03,\n",
       "        7.30622560e-05, 4.70828377e-02, 1.36593161e-02, 7.33266920e-02,\n",
       "        5.06488094e-03, 6.83412596e-04, 1.82027361e-04, 3.11160657e-05,\n",
       "        5.66036208e-04, 2.04989283e-05, 3.22470180e-04, 3.45672917e-04,\n",
       "        3.01521388e-04, 7.34279965e-05, 4.32494970e-04, 4.86183926e-05,\n",
       "        1.27791520e-03, 4.18697484e-03, 5.28300600e-03, 1.70449063e-03,\n",
       "        1.06226408e-03, 3.86167550e-03, 3.55918106e-04, 1.36037886e-06,\n",
       "        1.92149146e-03, 2.53406959e-03, 1.87102128e-02, 3.22530000e-03,\n",
       "        7.30568892e-04, 3.63730251e-05, 1.42661083e-05, 8.08893601e-05,\n",
       "        1.54126519e-05, 4.62091016e-03, 2.49551056e-04, 5.73236612e-04,\n",
       "        5.04868285e-06, 1.91451777e-02, 5.36474763e-05, 3.77546443e-04,\n",
       "        4.89757222e-04, 3.02742817e-03, 2.16643279e-03, 4.72327047e-05,\n",
       "        2.41005002e-03, 3.43233514e-05, 8.53068268e-05, 2.10915125e-04,\n",
       "        2.51166966e-05, 1.59860775e-03, 3.20599211e-04, 7.12257868e-04,\n",
       "        1.71394076e-05, 7.80710980e-05, 1.62603374e-05, 8.39288160e-03,\n",
       "        1.65927725e-06, 5.71767305e-06, 2.24487903e-05, 5.99703984e-03,\n",
       "        9.99514377e-05, 4.20693914e-06, 1.76630521e-04, 1.81510950e-06,\n",
       "        1.94398363e-05, 5.35820027e-06, 4.39593668e-06, 5.26726435e-05,\n",
       "        5.84984855e-06, 7.25250840e-02, 3.79365310e-03, 5.60500659e-04,\n",
       "        2.34743278e-03, 2.85930437e-04, 4.64768644e-04, 1.31783425e-04,\n",
       "        2.42438633e-04, 1.82212167e-03, 5.22741811e-06, 3.83169856e-04,\n",
       "        8.01410933e-05, 5.05253138e-06, 6.28578593e-04, 3.65873639e-05,\n",
       "        3.28164460e-05, 2.81228358e-03, 7.66325102e-04, 4.39789728e-05,\n",
       "        1.91292915e-04, 5.52011406e-05, 6.38763560e-03, 5.79039045e-02,\n",
       "        6.15894271e-04, 7.82938805e-05, 8.73548051e-05, 8.71293992e-03,\n",
       "        1.96044828e-04, 2.43628656e-05, 4.47035018e-05, 6.32640091e-04,\n",
       "        7.34680295e-02, 6.88958564e-04, 2.15984718e-03, 1.28573753e-04,\n",
       "        4.86001263e-05, 3.49595866e-05, 2.41871658e-06, 6.43106614e-06]],\n",
       "      dtype=float32)"
      ]
     },
     "execution_count": 12,
     "metadata": {},
     "output_type": "execute_result"
    }
   ],
   "source": [
    "res"
   ]
  },
  {
   "cell_type": "code",
   "execution_count": 18,
   "id": "d0972fd7",
   "metadata": {},
   "outputs": [
    {
     "data": {
      "text/plain": [
       "44"
      ]
     },
     "execution_count": 18,
     "metadata": {},
     "output_type": "execute_result"
    }
   ],
   "source": [
    "res.argmax()"
   ]
  },
  {
   "cell_type": "code",
   "execution_count": 14,
   "id": "e35658e8",
   "metadata": {},
   "outputs": [
    {
     "ename": "NameError",
     "evalue": "name 'a' is not defined",
     "output_type": "error",
     "traceback": [
      "\u001b[1;31m---------------------------------------------------------------------------\u001b[0m",
      "\u001b[1;31mNameError\u001b[0m                                 Traceback (most recent call last)",
      "\u001b[1;32m~\\AppData\\Local\\Temp/ipykernel_10700/2167009006.py\u001b[0m in \u001b[0;36m<module>\u001b[1;34m\u001b[0m\n\u001b[1;32m----> 1\u001b[1;33m \u001b[0ma\u001b[0m\u001b[1;33m\u001b[0m\u001b[1;33m\u001b[0m\u001b[0m\n\u001b[0m",
      "\u001b[1;31mNameError\u001b[0m: name 'a' is not defined"
     ]
    }
   ],
   "source": [
    "a"
   ]
  },
  {
   "cell_type": "code",
   "execution_count": 23,
   "id": "ec484dd6",
   "metadata": {},
   "outputs": [
    {
     "data": {
      "image/png": "[encoded data removed]",
      "text/plain": [
       "<Figure size 432x288 with 1 Axes>"
      ]
     },
     "metadata": {
      "needs_background": "light"
     },
     "output_type": "display_data"
    }
   ],
   "source": [
    "plt.imshow(img,cmap='gray')\n",
    "plt.show()"
   ]
  },
  {
   "cell_type": "code",
   "execution_count": 21,
   "id": "6b8f91de",
   "metadata": {},
   "outputs": [],
   "source": [
    "physical_devices = tf.config.experimental.list_physical_devices('GPU')\n",
    "# tf.config.experimental.set_memory_growth(physical_devices[0], True)"
   ]
  },
  {
   "cell_type": "code",
   "execution_count": 22,
   "id": "c14cece9",
   "metadata": {},
   "outputs": [
    {
     "data": {
      "text/plain": [
       "[]"
      ]
     },
     "execution_count": 22,
     "metadata": {},
     "output_type": "execute_result"
    }
   ],
   "source": [
    "physical_devices"
   ]
  },
  {
   "cell_type": "code",
   "execution_count": 26,
   "id": "98204a96",
   "metadata": {},
   "outputs": [
    {
     "ename": "NameError",
     "evalue": "name 'EastModel' is not defined",
     "output_type": "error",
     "traceback": [
      "\u001b[1;31m---------------------------------------------------------------------------\u001b[0m",
      "\u001b[1;31mNameError\u001b[0m                                 Traceback (most recent call last)",
      "\u001b[1;32m~\\AppData\\Local\\Temp/ipykernel_10700/971470063.py\u001b[0m in \u001b[0;36m<module>\u001b[1;34m\u001b[0m\n\u001b[0;32m     11\u001b[0m \u001b[0minput_image\u001b[0m \u001b[1;33m=\u001b[0m \u001b[0mInput\u001b[0m\u001b[1;33m(\u001b[0m\u001b[0mshape\u001b[0m\u001b[1;33m=\u001b[0m\u001b[1;33m(\u001b[0m\u001b[1;32mNone\u001b[0m\u001b[1;33m,\u001b[0m \u001b[1;32mNone\u001b[0m\u001b[1;33m,\u001b[0m \u001b[1;36m3\u001b[0m\u001b[1;33m)\u001b[0m\u001b[1;33m)\u001b[0m\u001b[1;33m\u001b[0m\u001b[1;33m\u001b[0m\u001b[0m\n\u001b[0;32m     12\u001b[0m \u001b[0mcnn_features\u001b[0m \u001b[1;33m=\u001b[0m \u001b[0mcnn_model\u001b[0m\u001b[1;33m(\u001b[0m\u001b[0minput_image\u001b[0m\u001b[1;33m)\u001b[0m\u001b[1;33m\u001b[0m\u001b[1;33m\u001b[0m\u001b[0m\n\u001b[1;32m---> 13\u001b[1;33m \u001b[0meast_detector\u001b[0m \u001b[1;33m=\u001b[0m \u001b[0mEastModel\u001b[0m\u001b[1;33m(\u001b[0m\u001b[0mcnn_features\u001b[0m\u001b[1;33m)\u001b[0m\u001b[1;33m\u001b[0m\u001b[1;33m\u001b[0m\u001b[0m\n\u001b[0m\u001b[0;32m     14\u001b[0m \u001b[1;33m\u001b[0m\u001b[0m\n\u001b[0;32m     15\u001b[0m \u001b[1;31m# Compile and train the EAST detector on your dataset\u001b[0m\u001b[1;33m\u001b[0m\u001b[1;33m\u001b[0m\u001b[0m\n",
      "\u001b[1;31mNameError\u001b[0m: name 'EastModel' is not defined"
     ]
    }
   ],
   "source": [
    "from keras.models import Model\n",
    "from keras.layers import Input\n",
    "\n",
    "# Load your trained CNN model\n",
    "cnn_model = load_model('detect_tamil.h5')\n",
    "\n",
    "# Remove the last layer of the CNN (the classifier)\n",
    "cnn_model = Model(inputs=cnn_model.inputs, outputs=cnn_model.layers[-2].output)\n",
    "\n",
    "# Define the input and output layers for the EAST detector\n",
    "input_image = Input(shape=(None, None, 3))\n",
    "cnn_features = cnn_model(input_image)\n",
    "east_detector = EastModel(cnn_features)\n",
    "\n",
    "# Compile and train the EAST detector on your dataset\n",
    "east_detector.compile(optimizer='adam', loss='binary_crossentropy')\n",
    "east_detector.fit(x_train, y_train, epochs=10)"
   ]
  },
  {
   "cell_type": "code",
   "execution_count": 25,
   "id": "3c32e619",
   "metadata": {},
   "outputs": [],
   "source": [
    "from tensorflow.keras.models import Model\n"
   ]
  },
  {
   "cell_type": "code",
   "execution_count": null,
   "id": "f7be5753",
   "metadata": {},
   "outputs": [],
   "source": []
  }
 ],
 "metadata": {
  "kernelspec": {
   "display_name": "Python 3 (ipykernel)",
   "language": "python",
   "name": "python3"
  },
  "language_info": {
   "codemirror_mode": {
    "name": "ipython",
    "version": 3
   },
   "file_extension": ".py",
   "mimetype": "text/x-python",
   "name": "python",
   "nbconvert_exporter": "python",
   "pygments_lexer": "ipython3",
   "version": "3.9.7"
  }
 },
 "nbformat": 4,
 "nbformat_minor": 5
}
